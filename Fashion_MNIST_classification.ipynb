{
  "cells": [
    {
      "cell_type": "markdown",
      "metadata": {
        "id": "UrHTp79JL4HC"
      },
      "source": [
        "### Fashion MNIST image classification by using MLP "
      ]
    },
    {
      "cell_type": "code",
      "execution_count": 34,
      "metadata": {
        "id": "8cNUzxJyL4HC",
        "colab": {
          "base_uri": "https://localhost:8080/"
        },
        "outputId": "37fec16d-e160-4062-c99e-4c100e8e1527"
      },
      "outputs": [
        {
          "output_type": "stream",
          "name": "stdout",
          "text": [
            "Versions: Tensorflow2.11.0, Keras2.11.0\n"
          ]
        }
      ],
      "source": [
        "import tensorflow as tf\n",
        "import numpy as np\n",
        "import matplotlib.pyplot as plt\n",
        "from sklearn.model_selection import train_test_split\n",
        "\n",
        "print('Versions: Tensorflow{0}, Keras{1}'.format(tf.__version__, tf.keras.__version__))"
      ]
    },
    {
      "cell_type": "markdown",
      "metadata": {
        "id": "lPP3YImOL4HD"
      },
      "source": [
        "### Dataset: Fashion MNIST \n",
        "- Image: 28x28 pixels, black and white image\n",
        "- 10 classes = {'T-shirt/top', 'Trouser', 'Pullover', 'Dress', 'Coat', 'Sandal', 'Shirt', 'Sneaker', 'Bag', 'Ankle boot'}\n",
        "- Training : Testing = 60,000 : 10,000"
      ]
    },
    {
      "cell_type": "code",
      "execution_count": 35,
      "metadata": {
        "colab": {
          "base_uri": "https://localhost:8080/"
        },
        "id": "ao6l5fktL4HD",
        "outputId": "6adcc1fb-7485-4914-92f4-4ad9b0514b4c",
        "scrolled": true
      },
      "outputs": [
        {
          "output_type": "stream",
          "name": "stdout",
          "text": [
            "Train: 60000:10000\n",
            "Shape of Training set: (60000, 28, 28)\n",
            "Data type: uint8 = (0 to 255)\n"
          ]
        }
      ],
      "source": [
        "fashion_mnist = tf.keras.datasets.fashion_mnist\n",
        "(X_train, y_train), (X_test, y_test) = fashion_mnist.load_data()\n",
        "print('Train: {0}:{1}'.format(len(X_train), len(X_test)))\n",
        "print('Shape of Training set:', X_train.shape)\n",
        "print('Data type: {0} = (0 to 255)'.format(X_train.dtype))"
      ]
    },
    {
      "cell_type": "markdown",
      "metadata": {
        "id": "QmUOnfS6eZlO"
      },
      "source": [
        "####  $\\circ$ 처음 5개 sample {특징(영상), 라벨}"
      ]
    },
    {
      "cell_type": "code",
      "execution_count": 36,
      "metadata": {
        "colab": {
          "base_uri": "https://localhost:8080/",
          "height": 1000
        },
        "id": "zWfxN6NQeZlO",
        "outputId": "d443f8ca-d734-4862-f900-cf4d32f6f835"
      },
      "outputs": [
        {
          "output_type": "display_data",
          "data": {
            "text/plain": [
              "<Figure size 720x360 with 5 Axes>"
            ],
            "image/png": "[encoded data removed]"
          },
          "metadata": {
            "needs_background": "light"
          }
        },
        {
          "output_type": "stream",
          "name": "stdout",
          "text": [
            "첫번째 데이터 라벨: 9→Ankle boot\n",
            "첫번째 데이터 특징(영상):\n",
            "X_train[0]=\n",
            " [[  0   0   0   0   0   0   0   0   0   0   0   0   0   0   0   0   0   0\n",
            "    0   0   0   0   0   0   0   0   0   0]\n",
            " [  0   0   0   0   0   0   0   0   0   0   0   0   0   0   0   0   0   0\n",
            "    0   0   0   0   0   0   0   0   0   0]\n",
            " [  0   0   0   0   0   0   0   0   0   0   0   0   0   0   0   0   0   0\n",
            "    0   0   0   0   0   0   0   0   0   0]\n",
            " [  0   0   0   0   0   0   0   0   0   0   0   0   1   0   0  13  73   0\n",
            "    0   1   4   0   0   0   0   1   1   0]\n",
            " [  0   0   0   0   0   0   0   0   0   0   0   0   3   0  36 136 127  62\n",
            "   54   0   0   0   1   3   4   0   0   3]\n",
            " [  0   0   0   0   0   0   0   0   0   0   0   0   6   0 102 204 176 134\n",
            "  144 123  23   0   0   0   0  12  10   0]\n",
            " [  0   0   0   0   0   0   0   0   0   0   0   0   0   0 155 236 207 178\n",
            "  107 156 161 109  64  23  77 130  72  15]\n",
            " [  0   0   0   0   0   0   0   0   0   0   0   1   0  69 207 223 218 216\n",
            "  216 163 127 121 122 146 141  88 172  66]\n",
            " [  0   0   0   0   0   0   0   0   0   1   1   1   0 200 232 232 233 229\n",
            "  223 223 215 213 164 127 123 196 229   0]\n",
            " [  0   0   0   0   0   0   0   0   0   0   0   0   0 183 225 216 223 228\n",
            "  235 227 224 222 224 221 223 245 173   0]\n",
            " [  0   0   0   0   0   0   0   0   0   0   0   0   0 193 228 218 213 198\n",
            "  180 212 210 211 213 223 220 243 202   0]\n",
            " [  0   0   0   0   0   0   0   0   0   1   3   0  12 219 220 212 218 192\n",
            "  169 227 208 218 224 212 226 197 209  52]\n",
            " [  0   0   0   0   0   0   0   0   0   0   6   0  99 244 222 220 218 203\n",
            "  198 221 215 213 222 220 245 119 167  56]\n",
            " [  0   0   0   0   0   0   0   0   0   4   0   0  55 236 228 230 228 240\n",
            "  232 213 218 223 234 217 217 209  92   0]\n",
            " [  0   0   1   4   6   7   2   0   0   0   0   0 237 226 217 223 222 219\n",
            "  222 221 216 223 229 215 218 255  77   0]\n",
            " [  0   3   0   0   0   0   0   0   0  62 145 204 228 207 213 221 218 208\n",
            "  211 218 224 223 219 215 224 244 159   0]\n",
            " [  0   0   0   0  18  44  82 107 189 228 220 222 217 226 200 205 211 230\n",
            "  224 234 176 188 250 248 233 238 215   0]\n",
            " [  0  57 187 208 224 221 224 208 204 214 208 209 200 159 245 193 206 223\n",
            "  255 255 221 234 221 211 220 232 246   0]\n",
            " [  3 202 228 224 221 211 211 214 205 205 205 220 240  80 150 255 229 221\n",
            "  188 154 191 210 204 209 222 228 225   0]\n",
            " [ 98 233 198 210 222 229 229 234 249 220 194 215 217 241  65  73 106 117\n",
            "  168 219 221 215 217 223 223 224 229  29]\n",
            " [ 75 204 212 204 193 205 211 225 216 185 197 206 198 213 240 195 227 245\n",
            "  239 223 218 212 209 222 220 221 230  67]\n",
            " [ 48 203 183 194 213 197 185 190 194 192 202 214 219 221 220 236 225 216\n",
            "  199 206 186 181 177 172 181 205 206 115]\n",
            " [  0 122 219 193 179 171 183 196 204 210 213 207 211 210 200 196 194 191\n",
            "  195 191 198 192 176 156 167 177 210  92]\n",
            " [  0   0  74 189 212 191 175 172 175 181 185 188 189 188 193 198 204 209\n",
            "  210 210 211 188 188 194 192 216 170   0]\n",
            " [  2   0   0   0  66 200 222 237 239 242 246 243 244 221 220 193 191 179\n",
            "  182 182 181 176 166 168  99  58   0   0]\n",
            " [  0   0   0   0   0   0   0  40  61  44  72  41  35   0   0   0   0   0\n",
            "    0   0   0   0   0   0   0   0   0   0]\n",
            " [  0   0   0   0   0   0   0   0   0   0   0   0   0   0   0   0   0   0\n",
            "    0   0   0   0   0   0   0   0   0   0]\n",
            " [  0   0   0   0   0   0   0   0   0   0   0   0   0   0   0   0   0   0\n",
            "    0   0   0   0   0   0   0   0   0   0]]\n"
          ]
        }
      ],
      "source": [
        "class_names = [\"T-shirt/top\", \"Trouser\", \"Pullover\", \"Dress\", \"Coat\", \"Sandal\", \"Shirt\", \"Sneaker\", \"Bag\", \"Ankle boot\"]\n",
        "\n",
        "plt.figure(figsize=(10,5))\n",
        "for c in range(5):\n",
        "    plt.subplot(1,5, c+1)\n",
        "    plt.imshow(X_train[c], cmap=\"gray\")\n",
        "    plt.title(class_names[y_train[c]])\n",
        "    plt.axis('off')\n",
        "plt.show()\n",
        "\n",
        "print('첫번째 데이터 라벨: {0}→{1}'.format(y_train[0], class_names[y_train[0]]))\n",
        "print('첫번째 데이터 특징(영상):\\nX_train[0]=\\n', X_train[0])"
      ]
    },
    {
      "cell_type": "markdown",
      "metadata": {
        "id": "PG0xCw6TL4HF"
      },
      "source": [
        "### Data processing\n",
        "- 60,000장 중에 일부만 사용. {학습용: 45,000장, 검증용: 15,000장}\n",
        "- [0, 255]값을 가진 화소값을 [0, 1]사이의 범위로 정규화(normalization)을 수행함."
      ]
    },
    {
      "cell_type": "code",
      "execution_count": 37,
      "metadata": {
        "colab": {
          "base_uri": "https://localhost:8080/"
        },
        "id": "9UITF6ynL4HF",
        "outputId": "59f691a6-9c98-4b01-96a5-9a24d0ee493c"
      },
      "outputs": [
        {
          "output_type": "stream",
          "name": "stdout",
          "text": [
            "학습 : 검증 : 테스트 = 45000 : 15000 : 10000\n"
          ]
        }
      ],
      "source": [
        "X_train = X_train / 255.\n",
        "X_test = X_test / 255.\n",
        "print('학습 : 검증 : 테스트 = {0} : {1} : {2}'.format(int(len(X_train)*0.75), int(len(X_train)*0.25),len(X_test)))"
      ]
    },
    {
      "cell_type": "markdown",
      "metadata": {
        "id": "A23ufE80L4HI"
      },
      "source": [
        "### <span style=\"color:red\">  Step 1:</span> Build a model \n",
        "- Input nodes: 784 (=28*28)\n",
        "- Dense (1st hidden) layer: 300 nodes,  활성함수: ReLU\n",
        "- Dense (2nd hidden) layer: 100 nodes,  활성함수: ReLU\n",
        "- Dense (output) layer: 10 nodes,  활성함수: softmax"
      ]
    },
    {
      "cell_type": "code",
      "execution_count": 38,
      "metadata": {
        "id": "j43mOdaFL4HI",
        "colab": {
          "base_uri": "https://localhost:8080/"
        },
        "outputId": "5fc78c88-5fae-4393-e301-708342b24c4c"
      },
      "outputs": [
        {
          "output_type": "execute_result",
          "data": {
            "text/plain": [
              "[<keras.layers.reshaping.flatten.Flatten at 0x7fdc4b60d820>,\n",
              " <keras.layers.core.dense.Dense at 0x7fdbbf4c0df0>,\n",
              " <keras.layers.core.dense.Dense at 0x7fdbbf4c8eb0>,\n",
              " <keras.layers.core.dense.Dense at 0x7fdbbfd35cd0>]"
            ]
          },
          "metadata": {},
          "execution_count": 38
        }
      ],
      "source": [
        "np.random.seed(42)\n",
        "tf.random.set_seed(42)\n",
        "\n",
        "model = tf.keras.models.Sequential()\n",
        "model.add(tf.keras.layers.Flatten(input_shape=[28, 28]))\n",
        "model.add(tf.keras.layers.Dense(300, activation=\"relu\"))\n",
        "model.add(tf.keras.layers.Dense(100, activation=\"relu\"))\n",
        "model.add(tf.keras.layers.Dense(10, activation=\"softmax\"))\n",
        "\n",
        "model.layers"
      ]
    },
    {
      "cell_type": "markdown",
      "metadata": {
        "id": "DLv9GM3AeZlQ"
      },
      "source": [
        "#### - Note: 동일한 다른 구현:\n",
        "```python\n",
        "model = tf.keras.models.Sequential([\n",
        "        tf.keras.layers.Flatten(input_shape=[28, 28]),\n",
        "        tf.keras.layers.Dense(300, activation=\"relu\"),\n",
        "        tf.keras.layers.Dense(100, activation=\"relu\"),\n",
        "        tf.keras.layers.Dense(10, activation=\"softmax\")])\n",
        "```"
      ]
    },
    {
      "cell_type": "code",
      "execution_count": 39,
      "metadata": {
        "colab": {
          "base_uri": "https://localhost:8080/"
        },
        "id": "8GQAMcdBL4HJ",
        "outputId": "e8abd1ba-f6bb-4482-fe87-a8d5e8fa4655",
        "scrolled": false
      },
      "outputs": [
        {
          "output_type": "stream",
          "name": "stdout",
          "text": [
            "Model: \"sequential_4\"\n",
            "_________________________________________________________________\n",
            " Layer (type)                Output Shape              Param #   \n",
            "=================================================================\n",
            " flatten_4 (Flatten)         (None, 784)               0         \n",
            "                                                                 \n",
            " dense_12 (Dense)            (None, 300)               235500    \n",
            "                                                                 \n",
            " dense_13 (Dense)            (None, 100)               30100     \n",
            "                                                                 \n",
            " dense_14 (Dense)            (None, 10)                1010      \n",
            "                                                                 \n",
            "=================================================================\n",
            "Total params: 266,610\n",
            "Trainable params: 266,610\n",
            "Non-trainable params: 0\n",
            "_________________________________________________________________\n"
          ]
        }
      ],
      "source": [
        "model.summary()"
      ]
    },
    {
      "cell_type": "code",
      "execution_count": 40,
      "metadata": {
        "colab": {
          "base_uri": "https://localhost:8080/",
          "height": 533
        },
        "id": "C_SXkkckeZlR",
        "outputId": "25009367-d4ca-4592-dace-25a9011dd8f8"
      },
      "outputs": [
        {
          "output_type": "execute_result",
          "data": {
            "image/png": "[encoded data removed]",
            "text/plain": [
              "<IPython.core.display.Image object>"
            ]
          },
          "metadata": {},
          "execution_count": 40
        }
      ],
      "source": [
        "from tensorflow.keras.utils import plot_model\n",
        "plot_model(model, show_shapes=True)"
      ]
    },
    {
      "cell_type": "code",
      "execution_count": 41,
      "metadata": {
        "colab": {
          "base_uri": "https://localhost:8080/"
        },
        "id": "Vzbd2-L5L4HK",
        "outputId": "97d1ef28-ac64-479f-90a7-a9a899406a4e"
      },
      "outputs": [
        {
          "output_type": "stream",
          "name": "stdout",
          "text": [
            "1 dense_12\n",
            "2 True\n",
            "3: weights shape: (784, 300), biases shape: (300,)\n",
            "4: weights =  [[-0.06879359  0.04237416  0.04732639]\n",
            " [ 0.01920061  0.05801861  0.03655366]]\n",
            "5: biases =  [0. 0. 0. 0. 0.]\n"
          ]
        }
      ],
      "source": [
        "hidden1 = model.layers[1]\n",
        "print(\"1\",hidden1.name)\n",
        "print(\"2\",model.get_layer(hidden1.name) is hidden1)\n",
        "\n",
        "weights, biases = hidden1.get_weights()\n",
        "print('3: weights shape: {0}, biases shape: {1}'.format(weights.shape, biases.shape))\n",
        "print('4: weights = ', weights[:2, :3])\n",
        "print('5: biases = ', biases[:5])"
      ]
    },
    {
      "cell_type": "markdown",
      "metadata": {
        "id": "kYh5NjPVeZlR"
      },
      "source": [
        "### <span style=\"color:red\"> Step 2: </span> Set up training "
      ]
    },
    {
      "cell_type": "code",
      "execution_count": 42,
      "metadata": {
        "id": "Yk4uhJmbyKkS",
        "outputId": "5f6b7719-e0ff-4761-9a03-39eb0c879e6a",
        "colab": {
          "base_uri": "https://localhost:8080/"
        }
      },
      "outputs": [
        {
          "output_type": "stream",
          "name": "stdout",
          "text": [
            "[9 0]\n"
          ]
        }
      ],
      "source": [
        "print(y_train[0:2])"
      ]
    },
    {
      "cell_type": "code",
      "execution_count": 43,
      "metadata": {
        "id": "a5kLqsVoL4HL"
      },
      "outputs": [],
      "source": [
        "model.compile(loss=\"sparse_categorical_crossentropy\", optimizer=\"sgd\", metrics=[\"accuracy\"])"
      ]
    },
    {
      "cell_type": "markdown",
      "metadata": {
        "id": "sKLJtBx3L4HM"
      },
      "source": [
        "#### - Note: 동일한 다른 구현:\n",
        "```python\n",
        "model.compile(loss=tf.keras.losses.sparse_categorical_crossentropy,\n",
        "              optimizer=tf.keras.optimizers.SGD(),\n",
        "              metrics=[tf.keras.metrics.sparse_categorical_accuracy])\n",
        "```"
      ]
    },
    {
      "cell_type": "markdown",
      "metadata": {
        "id": "SroK39N1eZlS"
      },
      "source": [
        "### <span style=\"color:red\"> Step 3: </span>Training model"
      ]
    },
    {
      "cell_type": "code",
      "execution_count": 44,
      "metadata": {
        "colab": {
          "base_uri": "https://localhost:8080/"
        },
        "id": "GeP_AoYDL4HM",
        "outputId": "1febf646-c4f6-4b53-cd76-4f1930f4e13c",
        "scrolled": true
      },
      "outputs": [
        {
          "output_type": "stream",
          "name": "stdout",
          "text": [
            "Epoch 1/30\n",
            "1407/1407 - 5s - loss: 0.7308 - accuracy: 0.7608 - val_loss: 0.5298 - val_accuracy: 0.8165 - 5s/epoch - 4ms/step\n",
            "Epoch 2/30\n",
            "1407/1407 - 5s - loss: 0.4990 - accuracy: 0.8274 - val_loss: 0.5353 - val_accuracy: 0.8012 - 5s/epoch - 3ms/step\n",
            "Epoch 3/30\n",
            "1407/1407 - 5s - loss: 0.4522 - accuracy: 0.8409 - val_loss: 0.4590 - val_accuracy: 0.8389 - 5s/epoch - 3ms/step\n",
            "Epoch 4/30\n",
            "1407/1407 - 5s - loss: 0.4240 - accuracy: 0.8505 - val_loss: 0.5127 - val_accuracy: 0.8131 - 5s/epoch - 4ms/step\n",
            "Epoch 5/30\n",
            "1407/1407 - 4s - loss: 0.4047 - accuracy: 0.8574 - val_loss: 0.4301 - val_accuracy: 0.8451 - 4s/epoch - 3ms/step\n",
            "Epoch 6/30\n",
            "1407/1407 - 5s - loss: 0.3867 - accuracy: 0.8643 - val_loss: 0.4917 - val_accuracy: 0.8206 - 5s/epoch - 4ms/step\n",
            "Epoch 7/30\n",
            "1407/1407 - 5s - loss: 0.3739 - accuracy: 0.8678 - val_loss: 0.4094 - val_accuracy: 0.8541 - 5s/epoch - 4ms/step\n",
            "Epoch 8/30\n",
            "1407/1407 - 4s - loss: 0.3631 - accuracy: 0.8712 - val_loss: 0.3864 - val_accuracy: 0.8639 - 4s/epoch - 3ms/step\n",
            "Epoch 9/30\n",
            "1407/1407 - 5s - loss: 0.3524 - accuracy: 0.8751 - val_loss: 0.3766 - val_accuracy: 0.8669 - 5s/epoch - 3ms/step\n",
            "Epoch 10/30\n",
            "1407/1407 - 4s - loss: 0.3421 - accuracy: 0.8791 - val_loss: 0.3839 - val_accuracy: 0.8615 - 4s/epoch - 3ms/step\n",
            "Epoch 11/30\n",
            "1407/1407 - 6s - loss: 0.3335 - accuracy: 0.8806 - val_loss: 0.3639 - val_accuracy: 0.8687 - 6s/epoch - 4ms/step\n",
            "Epoch 12/30\n",
            "1407/1407 - 5s - loss: 0.3258 - accuracy: 0.8835 - val_loss: 0.3692 - val_accuracy: 0.8675 - 5s/epoch - 4ms/step\n",
            "Epoch 13/30\n",
            "1407/1407 - 5s - loss: 0.3185 - accuracy: 0.8870 - val_loss: 0.3468 - val_accuracy: 0.8767 - 5s/epoch - 4ms/step\n",
            "Epoch 14/30\n",
            "1407/1407 - 5s - loss: 0.3116 - accuracy: 0.8890 - val_loss: 0.3555 - val_accuracy: 0.8753 - 5s/epoch - 4ms/step\n",
            "Epoch 15/30\n",
            "1407/1407 - 5s - loss: 0.3060 - accuracy: 0.8908 - val_loss: 0.4046 - val_accuracy: 0.8589 - 5s/epoch - 4ms/step\n",
            "Epoch 16/30\n",
            "1407/1407 - 5s - loss: 0.2988 - accuracy: 0.8923 - val_loss: 0.3525 - val_accuracy: 0.8715 - 5s/epoch - 4ms/step\n",
            "Epoch 17/30\n",
            "1407/1407 - 5s - loss: 0.2928 - accuracy: 0.8955 - val_loss: 0.3724 - val_accuracy: 0.8645 - 5s/epoch - 4ms/step\n",
            "Epoch 18/30\n",
            "1407/1407 - 5s - loss: 0.2878 - accuracy: 0.8952 - val_loss: 0.3414 - val_accuracy: 0.8788 - 5s/epoch - 3ms/step\n",
            "Epoch 19/30\n",
            "1407/1407 - 4s - loss: 0.2821 - accuracy: 0.8975 - val_loss: 0.3360 - val_accuracy: 0.8801 - 4s/epoch - 3ms/step\n",
            "Epoch 20/30\n",
            "1407/1407 - 5s - loss: 0.2778 - accuracy: 0.8994 - val_loss: 0.3791 - val_accuracy: 0.8599 - 5s/epoch - 3ms/step\n",
            "Epoch 21/30\n",
            "1407/1407 - 5s - loss: 0.2725 - accuracy: 0.9018 - val_loss: 0.3359 - val_accuracy: 0.8795 - 5s/epoch - 4ms/step\n",
            "Epoch 22/30\n",
            "1407/1407 - 5s - loss: 0.2678 - accuracy: 0.9042 - val_loss: 0.3418 - val_accuracy: 0.8767 - 5s/epoch - 4ms/step\n",
            "Epoch 23/30\n",
            "1407/1407 - 5s - loss: 0.2626 - accuracy: 0.9047 - val_loss: 0.3447 - val_accuracy: 0.8751 - 5s/epoch - 4ms/step\n",
            "Epoch 24/30\n",
            "1407/1407 - 5s - loss: 0.2587 - accuracy: 0.9063 - val_loss: 0.3359 - val_accuracy: 0.8787 - 5s/epoch - 4ms/step\n",
            "Epoch 25/30\n",
            "1407/1407 - 5s - loss: 0.2551 - accuracy: 0.9069 - val_loss: 0.3256 - val_accuracy: 0.8830 - 5s/epoch - 4ms/step\n",
            "Epoch 26/30\n",
            "1407/1407 - 5s - loss: 0.2506 - accuracy: 0.9092 - val_loss: 0.3206 - val_accuracy: 0.8867 - 5s/epoch - 3ms/step\n",
            "Epoch 27/30\n",
            "1407/1407 - 5s - loss: 0.2470 - accuracy: 0.9108 - val_loss: 0.3690 - val_accuracy: 0.8685 - 5s/epoch - 4ms/step\n",
            "Epoch 28/30\n",
            "1407/1407 - 5s - loss: 0.2428 - accuracy: 0.9128 - val_loss: 0.3228 - val_accuracy: 0.8861 - 5s/epoch - 3ms/step\n",
            "Epoch 29/30\n",
            "1407/1407 - 4s - loss: 0.2386 - accuracy: 0.9142 - val_loss: 0.3698 - val_accuracy: 0.8697 - 4s/epoch - 3ms/step\n",
            "Epoch 30/30\n",
            "1407/1407 - 5s - loss: 0.2342 - accuracy: 0.9169 - val_loss: 0.4471 - val_accuracy: 0.8461 - 5s/epoch - 4ms/step\n"
          ]
        }
      ],
      "source": [
        "history = model.fit(X_train, y_train, epochs = 30, batch_size = 32, verbose = 2, validation_split=0.25)"
      ]
    },
    {
      "cell_type": "code",
      "execution_count": 46,
      "metadata": {
        "id": "KPMpXP1RyKkT",
        "outputId": "9e5d8732-58a4-4c1e-8250-f9cb45be2257",
        "colab": {
          "base_uri": "https://localhost:8080/"
        }
      },
      "outputs": [
        {
          "output_type": "stream",
          "name": "stdout",
          "text": [
            "loss:  [0.7307595610618591, 0.49903786182403564, 0.4521881639957428, 0.42400693893432617, 0.40470337867736816, 0.3867201507091522, 0.3738802373409271, 0.363129585981369, 0.3524487614631653, 0.34209373593330383, 0.33351513743400574, 0.32580867409706116, 0.31848570704460144, 0.3116488754749298, 0.30598685145378113, 0.29882192611694336, 0.2927960753440857, 0.28780055046081543, 0.2820812463760376, 0.2777653634548187, 0.27254608273506165, 0.2678302228450775, 0.26262739300727844, 0.2587141692638397, 0.2551228404045105, 0.25060737133026123, 0.24697576463222504, 0.24280059337615967, 0.23855049908161163, 0.2341974675655365]\n",
            "accuracy [0.7608444690704346, 0.8274444341659546, 0.8409333229064941, 0.8504889011383057, 0.8574444651603699, 0.8642666935920715, 0.8678444623947144, 0.871222198009491, 0.8750888705253601, 0.8790666460990906, 0.8806222081184387, 0.8834888935089111, 0.8870221972465515, 0.8889999985694885, 0.8908222317695618, 0.8922666907310486, 0.8955110907554626, 0.8952000141143799, 0.8975111246109009, 0.8994222283363342, 0.9018444418907166, 0.9041777849197388, 0.9047333598136902, 0.9062666893005371, 0.9069111347198486, 0.9091777801513672, 0.9108444452285767, 0.9127777814865112, 0.914222240447998, 0.9169111251831055]\n"
          ]
        }
      ],
      "source": [
        "print(\"loss: \", history.history['loss'])\n",
        "print(\"accuracy\", history.history['accuracy'])"
      ]
    },
    {
      "cell_type": "code",
      "execution_count": 47,
      "metadata": {
        "id": "6X3l4bH1yKkU",
        "outputId": "e55431bc-8537-4e08-f3f4-3b483792c0db",
        "colab": {
          "base_uri": "https://localhost:8080/",
          "height": 315
        }
      },
      "outputs": [
        {
          "output_type": "stream",
          "name": "stdout",
          "text": [
            "<class 'dict'>\n",
            "dict_keys(['loss', 'accuracy', 'val_loss', 'val_accuracy'])\n"
          ]
        },
        {
          "output_type": "display_data",
          "data": {
            "text/plain": [
              "<Figure size 864x288 with 2 Axes>"
            ],
            "image/png": "[encoded data removed]"
          },
          "metadata": {
            "needs_background": "light"
          }
        }
      ],
      "source": [
        "print(type(history.history))\n",
        "print(history.history.keys())\n",
        "\n",
        "plt.figure(figsize=(12, 4))\n",
        "plt.subplot(1, 2, 1)\n",
        "plt.plot(history.epoch, history.history['loss'], 'ro-', label='train_loss')\n",
        "plt.plot(history.epoch, history.history['val_loss'], 'bo-', label='valid_loss')\n",
        "plt.grid()\n",
        "plt.xlabel('epoch')\n",
        "plt.ylabel('loss (cross entropy)')\n",
        "plt.legend()\n",
        "\n",
        "plt.subplot(1, 2, 2)\n",
        "plt.plot(history.epoch, history.history['accuracy'], 'ro-', label='train_accuracy')\n",
        "plt.plot(history.epoch, history.history['val_accuracy'], 'bo-', label='val_accuracy')\n",
        "plt.grid()\n",
        "plt.xlabel('epoch')\n",
        "plt.ylabel('accuracy')\n",
        "plt.legend()\n",
        "\n",
        "plt.show()"
      ]
    },
    {
      "cell_type": "code",
      "execution_count": 48,
      "metadata": {
        "id": "YLnZjnkbL4HN",
        "scrolled": true,
        "outputId": "3a076c08-b45d-4855-d8ba-58222102ba67",
        "colab": {
          "base_uri": "https://localhost:8080/"
        }
      },
      "outputs": [
        {
          "output_type": "stream",
          "name": "stdout",
          "text": [
            "history params =  {'verbose': 2, 'epochs': 30, 'steps': 1407}\n",
            "history epoch =  [0, 1, 2, 3, 4, 5, 6, 7, 8, 9, 10, 11, 12, 13, 14, 15, 16, 17, 18, 19, 20, 21, 22, 23, 24, 25, 26, 27, 28, 29]\n",
            "history keys =  dict_keys(['loss', 'accuracy', 'val_loss', 'val_accuracy'])\n"
          ]
        }
      ],
      "source": [
        "print('history params = ', history.params)\n",
        "print('history epoch = ', history.epoch)\n",
        "print('history keys = ',history.history.keys())"
      ]
    },
    {
      "cell_type": "code",
      "execution_count": 49,
      "metadata": {
        "colab": {
          "base_uri": "https://localhost:8080/",
          "height": 324
        },
        "id": "lKj523q1L4HO",
        "outputId": "baca66f2-6094-4bfd-94ec-7042fb13f866",
        "scrolled": true
      },
      "outputs": [
        {
          "output_type": "display_data",
          "data": {
            "text/plain": [
              "<Figure size 576x360 with 1 Axes>"
            ],
            "image/png": "[encoded data removed]"
          },
          "metadata": {
            "needs_background": "light"
          }
        }
      ],
      "source": [
        "import pandas as pd\n",
        "\n",
        "pd.DataFrame(history.history).plot(figsize=(8, 5))\n",
        "plt.grid(True)\n",
        "plt.gca().set_ylim(0, 1)\n",
        "plt.show()"
      ]
    },
    {
      "cell_type": "markdown",
      "metadata": {
        "id": "C_ocLzb5eZlT"
      },
      "source": [
        "### <span style=\"color:red\"> Step 4: </span> Model Evaluation by using Test dataset"
      ]
    },
    {
      "cell_type": "code",
      "execution_count": 51,
      "metadata": {
        "colab": {
          "base_uri": "https://localhost:8080/"
        },
        "id": "50IbtW_UL4HO",
        "outputId": "c241fd13-a9a6-4ee0-80b0-638d460147d1"
      },
      "outputs": [
        {
          "output_type": "execute_result",
          "data": {
            "text/plain": [
              "[0.37405210733413696, 0.8659999966621399]"
            ]
          },
          "metadata": {},
          "execution_count": 51
        }
      ],
      "source": [
        "model.evaluate(X_train, y_train, verbose=0)"
      ]
    },
    {
      "cell_type": "markdown",
      "metadata": {
        "id": "esbseLQZeZlT"
      },
      "source": [
        "### <span style=\"color:red\"> Step 5: </span> Prediction \n",
        "- Test dataset의 처음 3개의 sample들에 대해 예측 수행"
      ]
    },
    {
      "cell_type": "code",
      "execution_count": 54,
      "metadata": {
        "id": "_ay4DHTLyKkV",
        "outputId": "83598592-59a2-4ed4-8cdd-edfd9a33924e",
        "colab": {
          "base_uri": "https://localhost:8080/"
        }
      },
      "outputs": [
        {
          "output_type": "stream",
          "name": "stdout",
          "text": [
            "1/1 [==============================] - 0s 123ms/step\n",
            "(1) 예측 확률:\n",
            " [[0.   0.   0.   0.   0.   0.   0.   0.01 0.   0.99]\n",
            " [0.   0.   0.71 0.   0.29 0.   0.   0.   0.   0.  ]\n",
            " [0.   1.   0.   0.   0.   0.   0.   0.   0.   0.  ]] \n",
            "\n",
            "(2) 예측 결과:\n",
            " ['Ankle boot' 'Pullover' 'Trouser']\n"
          ]
        }
      ],
      "source": [
        "X_new = X_test[:3]\n",
        "y_proba = model.predict(X_new)\n",
        "print('(1) 예측 확률:\\n', y_proba.round(2), '\\n')\n",
        "\n",
        "y_pred = np.argmax(y_proba, axis=1)\n",
        "print('(2) 예측 결과:\\n', np.array(class_names)[y_pred])"
      ]
    },
    {
      "cell_type": "markdown",
      "metadata": {
        "id": "7-sh9WxkeZlU"
      },
      "source": [
        "- Test dataset의 처음 3개의 sample들의 정답값"
      ]
    },
    {
      "cell_type": "code",
      "execution_count": 55,
      "metadata": {
        "colab": {
          "base_uri": "https://localhost:8080/",
          "height": 183
        },
        "id": "-KXLzpSWL4HP",
        "outputId": "91d69ff5-f867-448d-dc5d-ccf9bc308aa7",
        "scrolled": true
      },
      "outputs": [
        {
          "output_type": "stream",
          "name": "stdout",
          "text": [
            "정답값(GT):  [9 2 1]['Ankle boot' 'Pullover' 'Trouser']\n"
          ]
        },
        {
          "output_type": "display_data",
          "data": {
            "text/plain": [
              "<Figure size 518.4x172.8 with 3 Axes>"
            ],
            "image/png": "[encoded data removed]"
          },
          "metadata": {
            "needs_background": "light"
          }
        }
      ],
      "source": [
        "y_new = y_test[:3]\n",
        "print('정답값(GT): ', y_new, end='')\n",
        "print(np.array(class_names)[y_new])\n",
        "\n",
        "plt.figure(figsize=(7.2, 2.4))\n",
        "for index, image in enumerate(X_new):\n",
        "    plt.subplot(1, 3, index + 1)\n",
        "    plt.imshow(image, cmap=\"binary\", interpolation=\"nearest\")\n",
        "    plt.axis('off')\n",
        "    plt.title(class_names[y_new[index]], fontsize=12)\n",
        "plt.subplots_adjust(wspace=0.2, hspace=0.5)\n",
        "plt.show()"
      ]
    }
  ],
  "metadata": {
    "colab": {
      "provenance": []
    },
    "kernelspec": {
      "display_name": "Python 3 (ipykernel)",
      "language": "python",
      "name": "python3"
    },
    "language_info": {
      "codemirror_mode": {
        "name": "ipython",
        "version": 3
      },
      "file_extension": ".py",
      "mimetype": "text/x-python",
      "name": "python",
      "nbconvert_exporter": "python",
      "pygments_lexer": "ipython3",
      "version": "3.9.7"
    },
    "nav_menu": {
      "height": "264px",
      "width": "369px"
    },
    "toc": {
      "navigate_menu": true,
      "number_sections": true,
      "sideBar": true,
      "threshold": 6,
      "toc_cell": false,
      "toc_section_display": "block",
      "toc_window_display": false
    }
  },
  "nbformat": 4,
  "nbformat_minor": 0
}