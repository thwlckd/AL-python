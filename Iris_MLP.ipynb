{
  "cells": [
    {
      "cell_type": "markdown",
      "metadata": {
        "id": "cjKeCh7iYxq-"
      },
      "source": [
        "## MLP (Multi-Layer Perceptron) Classification\n",
        "\n",
        "- Dataset: Iris data (총 150개의 붓꽃에 대한 수치적 정보)\n",
        "- Feature dimension: 2차원 (sepal length, sepal width의 2개만 사용함)\n",
        "- Number of classes: 3 {Iris-setosa, Iris-vericolor, Iris-virginica}\n",
        "- Train : Test = 7:3 (= 105개:45개)\n",
        "- Train = {Train : validation = 3:1 = 78개 : 27개}\n",
        "- Training method: MLP: Dense(10, Relu)-Dense(10, Relu)-Dense(3, Softmax)\n"
      ]
    },
    {
      "cell_type": "markdown",
      "metadata": {
        "id": "EwYBUL5dYxrC"
      },
      "source": [
        "#### 데이터셋 준비"
      ]
    },
    {
      "cell_type": "code",
      "execution_count": 34,
      "metadata": {
        "colab": {
          "base_uri": "https://localhost:8080/"
        },
        "id": "3NrI2gXycxYX",
        "outputId": "ddd8bfa5-39cd-4fe4-cea5-0c66f4574e65"
      },
      "outputs": [
        {
          "output_type": "stream",
          "name": "stdout",
          "text": [
            "class names:  ['setosa' 'versicolor' 'virginica']\n",
            "feature_names:  ['sepal length (cm)', 'sepal width (cm)', 'petal length (cm)', 'petal width (cm)']\n",
            "iris.keys():  dict_keys(['data', 'target', 'frame', 'target_names', 'DESCR', 'feature_names', 'filename', 'data_module'])\n",
            "<class 'numpy.ndarray'> (150, 4)\n"
          ]
        }
      ],
      "source": [
        "from sklearn.datasets import load_iris\n",
        "from sklearn.model_selection import train_test_split\n",
        "\n",
        "iris = load_iris()\n",
        "X, y = iris['data'], iris['target']\n",
        "class_names = iris['target_names']\n",
        "feature_names = iris['feature_names']\n",
        "\n",
        "print(\"class names: \", class_names)\n",
        "print(\"feature_names: \", feature_names)\n",
        "print(\"iris.keys(): \", iris.keys())\n",
        "print(type(X), X.shape)"
      ]
    },
    {
      "cell_type": "markdown",
      "metadata": {
        "id": "HZlo97RUcxYY"
      },
      "source": [
        "####  $\\circ$ 매 10번째 sample {특징값(4D), 라벨}들을 출력함."
      ]
    },
    {
      "cell_type": "code",
      "execution_count": 35,
      "metadata": {
        "scrolled": false,
        "colab": {
          "base_uri": "https://localhost:8080/"
        },
        "id": "ik0INVNMcxYZ",
        "outputId": "4b3d59ba-1dac-44dd-9a3c-befea5ddf962"
      },
      "outputs": [
        {
          "output_type": "stream",
          "name": "stdout",
          "text": [
            "Samples per 10\n",
            "Feature, y:class_names[y]\n",
            "[5.1 3.5 1.4 0.2], 0:setosa\n",
            "[5.4 3.7 1.5 0.2], 0:setosa\n",
            "[5.4 3.4 1.7 0.2], 0:setosa\n",
            "[4.8 3.1 1.6 0.2], 0:setosa\n",
            "[5.  3.5 1.3 0.3], 0:setosa\n",
            "[7.  3.2 4.7 1.4], 1:versicolor\n",
            "[5.  2.  3.5 1. ], 1:versicolor\n",
            "[5.9 3.2 4.8 1.8], 1:versicolor\n",
            "[5.5 2.4 3.8 1.1], 1:versicolor\n",
            "[5.5 2.6 4.4 1.2], 1:versicolor\n",
            "[6.3 3.3 6.  2.5], 2:virginica\n",
            "[6.5 3.2 5.1 2. ], 2:virginica\n",
            "[6.9 3.2 5.7 2.3], 2:virginica\n",
            "[7.4 2.8 6.1 1.9], 2:virginica\n",
            "[6.7 3.1 5.6 2.4], 2:virginica\n"
          ]
        }
      ],
      "source": [
        "print(\"Samples per 10\\nFeature, y:class_names[y]\")\n",
        "for c in range(0, 150, 10):\n",
        "    print(\"{}, {}:{}\".format(X[c], y[c], class_names[y[c]]))"
      ]
    },
    {
      "cell_type": "markdown",
      "metadata": {
        "id": "f-jlwTwHcxYZ"
      },
      "source": [
        "### Data processing (1)\n",
        "- 150개의 iris 데이터를 학습/테스트 데이터로 분리 및 shuffling\n",
        "- shuffling random seed = 42, test_size = 0.3\n",
        "- {학습용: 105개, 테스트용: 45개}"
      ]
    },
    {
      "cell_type": "code",
      "execution_count": 36,
      "metadata": {
        "colab": {
          "base_uri": "https://localhost:8080/"
        },
        "id": "gW7KYrVwcxYa",
        "outputId": "af875438-e913-47a6-e335-6d5667823e23"
      },
      "outputs": [
        {
          "output_type": "stream",
          "name": "stdout",
          "text": [
            "Dataset size =  150\n",
            "Shapes of Train features =  (105, 4)\n",
            "Shapes of Test feature =  (45, 4)\n",
            "Feature dimension =  4\n",
            "Train:Test = 0.7:0.3\n",
            "\n",
            "Training samples per 10\n",
            "Feature, y:class_names[y]\n",
            "[5.5 2.4 3.7 1. ], 1:versicolor\n",
            "[5.8 2.7 4.1 1. ], 1:versicolor\n",
            "[5.1 3.4 1.5 0.2], 0:setosa\n",
            "[5.4 3.  4.5 1.5], 1:versicolor\n",
            "[4.9 3.1 1.5 0.2], 0:setosa\n",
            "[5.5 2.5 4.  1.3], 1:versicolor\n",
            "[4.6 3.4 1.4 0.3], 0:setosa\n",
            "[6.9 3.1 5.4 2.1], 2:virginica\n",
            "[5.6 3.  4.1 1.3], 1:versicolor\n",
            "[6.9 3.1 4.9 1.5], 1:versicolor\n",
            "[6.1 2.8 4.  1.3], 1:versicolor\n"
          ]
        }
      ],
      "source": [
        "pa_test_split = 0.3\n",
        "\n",
        "X_train, X_test, y_train, y_test = train_test_split(X, y, random_state = 42, test_size=pa_test_split)\n",
        "\n",
        "print('Dataset size = ', len(X[:,0]))\n",
        "print(\"Shapes of Train features = \", X_train.shape)\n",
        "print(\"Shapes of Test feature = \", X_test.shape)\n",
        "print('Feature dimension = ', len(X[0,:]))\n",
        "print('Train:Test = {0}:{1}'.format(len(X_train)/len(X), len(X_test)/len(X)))\n",
        "\n",
        "print(\"\\nTraining samples per 10\\nFeature, y:class_names[y]\")\n",
        "for c in range(0, 105, 10):\n",
        "    print(\"{}, {}:{}\".format(X_train[c], y_train[c], class_names[y_train[c]]))"
      ]
    },
    {
      "cell_type": "markdown",
      "metadata": {
        "id": "rVC651z0cxYb"
      },
      "source": [
        "### Data processing (2)\n",
        "- 모든 학습용 sample들의 feature값들에 대해 정규화\n",
        "- (normalization: mean=0, stardard dev.=1)을 수행함.\n",
        "\n",
        "$ x_i = [x_{i,1}, x_{i,2}, x_{i,3}, x_{i,4}]$   \n",
        "where $i=1, ..., 105, \\hat{x}_i$ is normalized version of the i-th sample $ x_i$, \n",
        "\n",
        "$m_i = \\frac{1}{105}\\sum_{n=1}^{105}x_{i,1}$, and\n",
        "\n",
        "$\\sigma_i =  \\frac{1}{105} \\sum_{n=1}^{105} (x_{i,1}-\\bar{m_i})^2$ where $i=1, 2, 3, 4$"
      ]
    },
    {
      "cell_type": "code",
      "execution_count": 37,
      "metadata": {
        "colab": {
          "base_uri": "https://localhost:8080/"
        },
        "id": "ulCPtUu8YxrD",
        "outputId": "06d45fa0-5280-46d4-9d06-a693556232e2"
      },
      "outputs": [
        {
          "output_type": "stream",
          "name": "stdout",
          "text": [
            "Mean =  [3.6795963101862333e-16, 9.198990775465583e-17, 5.2867763077388404e-17, 1.0996494720096789e-16]\n",
            "Std =  [1.0, 1.0, 0.9999999999999999, 1.0]\n",
            "\n",
            "Normalized training samples per 10\n",
            "Feature, y:class_names[y]\n",
            "[-0.4134164  -1.46200287 -0.09951105 -0.32339776], 1:versicolor\n",
            "[-0.05167705 -0.74242333  0.13397857 -0.32339776], 1:versicolor\n",
            "[-0.89573553  0.93659559 -1.38370397 -1.40568508], 0:setosa\n",
            "[-0.53399618 -0.02284379  0.36746819  0.35303182], 1:versicolor\n",
            "[-1.1368951   0.21701605 -1.38370397 -1.40568508], 0:setosa\n",
            "[-0.4134164  -1.22214302  0.07560616  0.08245999], 1:versicolor\n",
            "[-1.49863445  0.93659559 -1.44207638 -1.27039917], 0:setosa\n",
            "[1.27470056 0.21701605 0.89281984 1.16474731], 2:virginica\n",
            "[-0.29283662 -0.02284379  0.13397857  0.08245999], 1:versicolor\n",
            "[1.27470056 0.21701605 0.60095781 0.35303182], 1:versicolor\n",
            "[ 0.3100623  -0.50256349  0.07560616  0.08245999], 1:versicolor\n"
          ]
        }
      ],
      "source": [
        "# X_train의 평균과 분산\n",
        "X_train_mean_before_normal = [X_train[:,0].mean(), X_train[:,1].mean(), X_train[:,2].mean(), X_train[:,3].mean()]\n",
        "X_train_std_before_normal = [X_train[:,0].std(), X_train[:,1].std(), X_train[:,2].std(), X_train[:,3].std()]\n",
        "\n",
        "# X_train의 정규화\n",
        "X_train = (X_train - X_train_mean_before_normal) / X_train_std_before_normal\n",
        "\n",
        "X_train_mean = [X_train[:,0].mean(), X_train[:,1].mean(), X_train[:,2].mean(), X_train[:,3].mean()]\n",
        "X_train_std = [X_train[:,0].std(), X_train[:,1].std(), X_train[:,2].std(), X_train[:,3].std()]\n",
        "print(\"Mean = \", X_train_mean)\n",
        "print(\"Std = \", X_train_std)\n",
        "\n",
        "print(\"\\nNormalized training samples per 10\\nFeature, y:class_names[y]\")\n",
        "for c in range(0, 105, 10):\n",
        "    print(\"{}, {}:{}\".format(X_train[c], y_train[c], class_names[y_train[c]]))"
      ]
    },
    {
      "cell_type": "markdown",
      "metadata": {
        "id": "A2tvoZyQYxrE"
      },
      "source": [
        "### Step 1:</span> Build a model \n",
        "- Input nodes: 4 \n",
        "- Dense (1st hidden) layer: 10 nodes,  활성함수: ReLU\n",
        "- Dense (2nd hidden) layer: 10 nodes,  활성함수: ReLU\n",
        "- Dense (output) layer: 3 nodes,  활성함수: softmax\n",
        "\n",
        "- Training method: MLP: Dense(10, Relu)-Dense(10, Relu)-Dense(3, Softmax)"
      ]
    },
    {
      "cell_type": "code",
      "execution_count": 38,
      "metadata": {
        "colab": {
          "base_uri": "https://localhost:8080/"
        },
        "id": "JvfdxK9_cxYd",
        "outputId": "93e3e8b8-8a64-419e-92fc-0e2d966aa1b1"
      },
      "outputs": [
        {
          "output_type": "stream",
          "name": "stdout",
          "text": [
            "Model: \"sequential_1\"\n",
            "_________________________________________________________________\n",
            " Layer (type)                Output Shape              Param #   \n",
            "=================================================================\n",
            " dense_3 (Dense)             (None, 10)                50        \n",
            "                                                                 \n",
            " dense_4 (Dense)             (None, 10)                110       \n",
            "                                                                 \n",
            " dense_5 (Dense)             (None, 3)                 33        \n",
            "                                                                 \n",
            "=================================================================\n",
            "Total params: 193\n",
            "Trainable params: 193\n",
            "Non-trainable params: 0\n",
            "_________________________________________________________________\n"
          ]
        }
      ],
      "source": [
        "import tensorflow as tf\n",
        "import numpy as np\n",
        "import matplotlib.pyplot as plt\n",
        "\n",
        "np.random.seed(42)\n",
        "tf.random.set_seed(42)\n",
        "\n",
        "model = tf.keras.models.Sequential()\n",
        "model.add(tf.keras.layers.InputLayer(input_shape=(4,)))\n",
        "\n",
        "# Dense(10, 'relu') - Dense(10, 'relu') - Dense(3, 'softmax) layer\n",
        "model.add(tf.keras.layers.Dense(10, activation=\"relu\"))\n",
        "model.add(tf.keras.layers.Dense(10, activation=\"relu\"))\n",
        "model.add(tf.keras.layers.Dense(3, activation=\"softmax\"))\n",
        "         \n",
        "model.summary()       "
      ]
    },
    {
      "cell_type": "markdown",
      "metadata": {
        "id": "Oozan8zFcxYe"
      },
      "source": [
        "### <span style=\"color:red\"> Step 2: </span> Set up training "
      ]
    },
    {
      "cell_type": "code",
      "execution_count": 39,
      "metadata": {
        "id": "LwzKSyGQcxYf"
      },
      "outputs": [],
      "source": [
        "model.compile(loss=\"sparse_categorical_crossentropy\", optimizer=\"sgd\", metrics=[\"accuracy\"])"
      ]
    },
    {
      "cell_type": "markdown",
      "metadata": {
        "id": "TW-xZqJecxYf"
      },
      "source": [
        "### <span style=\"color:red\"> Step 3: </span>Training model\n",
        "- Train = {Train : validation = 3:1 = 78개 : 27개}\n",
        "- i.e. validation_split = 0.25"
      ]
    },
    {
      "cell_type": "code",
      "execution_count": 40,
      "metadata": {
        "scrolled": true,
        "colab": {
          "base_uri": "https://localhost:8080/"
        },
        "id": "w7S18z5NcxYg",
        "outputId": "14bd56fc-8afa-4303-bca6-71ad04702674"
      },
      "outputs": [
        {
          "output_type": "stream",
          "name": "stdout",
          "text": [
            "Epoch 1/100\n",
            "10/10 - 1s - loss: 1.1802 - accuracy: 0.3205 - val_loss: 1.1140 - val_accuracy: 0.4444 - 525ms/epoch - 52ms/step\n",
            "Epoch 2/100\n",
            "10/10 - 0s - loss: 1.1131 - accuracy: 0.3333 - val_loss: 1.0564 - val_accuracy: 0.4815 - 54ms/epoch - 5ms/step\n",
            "Epoch 3/100\n",
            "10/10 - 0s - loss: 1.0618 - accuracy: 0.3462 - val_loss: 1.0116 - val_accuracy: 0.4815 - 41ms/epoch - 4ms/step\n",
            "Epoch 4/100\n",
            "10/10 - 0s - loss: 1.0214 - accuracy: 0.3462 - val_loss: 0.9721 - val_accuracy: 0.5185 - 55ms/epoch - 5ms/step\n",
            "Epoch 5/100\n",
            "10/10 - 0s - loss: 0.9845 - accuracy: 0.3846 - val_loss: 0.9351 - val_accuracy: 0.5556 - 60ms/epoch - 6ms/step\n",
            "Epoch 6/100\n",
            "10/10 - 0s - loss: 0.9503 - accuracy: 0.5641 - val_loss: 0.9012 - val_accuracy: 0.7407 - 57ms/epoch - 6ms/step\n",
            "Epoch 7/100\n",
            "10/10 - 0s - loss: 0.9194 - accuracy: 0.6795 - val_loss: 0.8691 - val_accuracy: 0.7778 - 57ms/epoch - 6ms/step\n",
            "Epoch 8/100\n",
            "10/10 - 0s - loss: 0.8898 - accuracy: 0.7179 - val_loss: 0.8377 - val_accuracy: 0.8148 - 57ms/epoch - 6ms/step\n",
            "Epoch 9/100\n",
            "10/10 - 0s - loss: 0.8600 - accuracy: 0.7308 - val_loss: 0.8070 - val_accuracy: 0.8148 - 38ms/epoch - 4ms/step\n",
            "Epoch 10/100\n",
            "10/10 - 0s - loss: 0.8312 - accuracy: 0.7436 - val_loss: 0.7774 - val_accuracy: 0.8148 - 57ms/epoch - 6ms/step\n",
            "Epoch 11/100\n",
            "10/10 - 0s - loss: 0.8030 - accuracy: 0.7308 - val_loss: 0.7486 - val_accuracy: 0.8148 - 36ms/epoch - 4ms/step\n",
            "Epoch 12/100\n",
            "10/10 - 0s - loss: 0.7746 - accuracy: 0.7308 - val_loss: 0.7213 - val_accuracy: 0.8889 - 53ms/epoch - 5ms/step\n",
            "Epoch 13/100\n",
            "10/10 - 0s - loss: 0.7475 - accuracy: 0.7436 - val_loss: 0.6959 - val_accuracy: 0.8889 - 67ms/epoch - 7ms/step\n",
            "Epoch 14/100\n",
            "10/10 - 0s - loss: 0.7219 - accuracy: 0.7564 - val_loss: 0.6714 - val_accuracy: 0.8889 - 59ms/epoch - 6ms/step\n",
            "Epoch 15/100\n",
            "10/10 - 0s - loss: 0.6967 - accuracy: 0.7821 - val_loss: 0.6489 - val_accuracy: 0.8889 - 59ms/epoch - 6ms/step\n",
            "Epoch 16/100\n",
            "10/10 - 0s - loss: 0.6727 - accuracy: 0.7821 - val_loss: 0.6277 - val_accuracy: 0.8889 - 41ms/epoch - 4ms/step\n",
            "Epoch 17/100\n",
            "10/10 - 0s - loss: 0.6508 - accuracy: 0.8205 - val_loss: 0.6079 - val_accuracy: 0.8889 - 47ms/epoch - 5ms/step\n",
            "Epoch 18/100\n",
            "10/10 - 0s - loss: 0.6300 - accuracy: 0.8205 - val_loss: 0.5897 - val_accuracy: 0.8889 - 57ms/epoch - 6ms/step\n",
            "Epoch 19/100\n",
            "10/10 - 0s - loss: 0.6097 - accuracy: 0.8205 - val_loss: 0.5728 - val_accuracy: 0.8889 - 43ms/epoch - 4ms/step\n",
            "Epoch 20/100\n",
            "10/10 - 0s - loss: 0.5909 - accuracy: 0.8205 - val_loss: 0.5568 - val_accuracy: 0.8889 - 43ms/epoch - 4ms/step\n",
            "Epoch 21/100\n",
            "10/10 - 0s - loss: 0.5733 - accuracy: 0.8205 - val_loss: 0.5418 - val_accuracy: 0.9259 - 60ms/epoch - 6ms/step\n",
            "Epoch 22/100\n",
            "10/10 - 0s - loss: 0.5571 - accuracy: 0.8205 - val_loss: 0.5282 - val_accuracy: 0.9259 - 39ms/epoch - 4ms/step\n",
            "Epoch 23/100\n",
            "10/10 - 0s - loss: 0.5416 - accuracy: 0.8462 - val_loss: 0.5150 - val_accuracy: 0.9259 - 58ms/epoch - 6ms/step\n",
            "Epoch 24/100\n",
            "10/10 - 0s - loss: 0.5275 - accuracy: 0.8333 - val_loss: 0.5029 - val_accuracy: 0.9259 - 57ms/epoch - 6ms/step\n",
            "Epoch 25/100\n",
            "10/10 - 0s - loss: 0.5144 - accuracy: 0.8462 - val_loss: 0.4914 - val_accuracy: 0.9259 - 55ms/epoch - 5ms/step\n",
            "Epoch 26/100\n",
            "10/10 - 0s - loss: 0.5016 - accuracy: 0.8333 - val_loss: 0.4811 - val_accuracy: 0.9259 - 60ms/epoch - 6ms/step\n",
            "Epoch 27/100\n",
            "10/10 - 0s - loss: 0.4903 - accuracy: 0.8333 - val_loss: 0.4719 - val_accuracy: 0.9259 - 55ms/epoch - 6ms/step\n",
            "Epoch 28/100\n",
            "10/10 - 0s - loss: 0.4794 - accuracy: 0.8462 - val_loss: 0.4628 - val_accuracy: 0.9259 - 58ms/epoch - 6ms/step\n",
            "Epoch 29/100\n",
            "10/10 - 0s - loss: 0.4689 - accuracy: 0.8462 - val_loss: 0.4542 - val_accuracy: 0.9259 - 44ms/epoch - 4ms/step\n",
            "Epoch 30/100\n",
            "10/10 - 0s - loss: 0.4597 - accuracy: 0.8590 - val_loss: 0.4461 - val_accuracy: 0.9259 - 42ms/epoch - 4ms/step\n",
            "Epoch 31/100\n",
            "10/10 - 0s - loss: 0.4511 - accuracy: 0.8590 - val_loss: 0.4385 - val_accuracy: 0.9259 - 40ms/epoch - 4ms/step\n",
            "Epoch 32/100\n",
            "10/10 - 0s - loss: 0.4428 - accuracy: 0.8590 - val_loss: 0.4317 - val_accuracy: 0.9259 - 41ms/epoch - 4ms/step\n",
            "Epoch 33/100\n",
            "10/10 - 0s - loss: 0.4348 - accuracy: 0.8846 - val_loss: 0.4245 - val_accuracy: 0.9259 - 46ms/epoch - 5ms/step\n",
            "Epoch 34/100\n",
            "10/10 - 0s - loss: 0.4273 - accuracy: 0.8846 - val_loss: 0.4182 - val_accuracy: 0.9259 - 40ms/epoch - 4ms/step\n",
            "Epoch 35/100\n",
            "10/10 - 0s - loss: 0.4209 - accuracy: 0.8846 - val_loss: 0.4116 - val_accuracy: 0.9259 - 41ms/epoch - 4ms/step\n",
            "Epoch 36/100\n",
            "10/10 - 0s - loss: 0.4138 - accuracy: 0.8846 - val_loss: 0.4053 - val_accuracy: 0.9259 - 54ms/epoch - 5ms/step\n",
            "Epoch 37/100\n",
            "10/10 - 0s - loss: 0.4079 - accuracy: 0.8846 - val_loss: 0.4002 - val_accuracy: 0.9259 - 40ms/epoch - 4ms/step\n",
            "Epoch 38/100\n",
            "10/10 - 0s - loss: 0.4020 - accuracy: 0.8974 - val_loss: 0.3943 - val_accuracy: 0.9259 - 39ms/epoch - 4ms/step\n",
            "Epoch 39/100\n",
            "10/10 - 0s - loss: 0.3959 - accuracy: 0.8974 - val_loss: 0.3892 - val_accuracy: 0.9259 - 53ms/epoch - 5ms/step\n",
            "Epoch 40/100\n",
            "10/10 - 0s - loss: 0.3907 - accuracy: 0.8846 - val_loss: 0.3846 - val_accuracy: 0.9259 - 39ms/epoch - 4ms/step\n",
            "Epoch 41/100\n",
            "10/10 - 0s - loss: 0.3852 - accuracy: 0.8974 - val_loss: 0.3797 - val_accuracy: 0.9259 - 45ms/epoch - 4ms/step\n",
            "Epoch 42/100\n",
            "10/10 - 0s - loss: 0.3802 - accuracy: 0.8974 - val_loss: 0.3753 - val_accuracy: 0.9259 - 39ms/epoch - 4ms/step\n",
            "Epoch 43/100\n",
            "10/10 - 0s - loss: 0.3751 - accuracy: 0.9231 - val_loss: 0.3705 - val_accuracy: 0.9259 - 43ms/epoch - 4ms/step\n",
            "Epoch 44/100\n",
            "10/10 - 0s - loss: 0.3705 - accuracy: 0.9231 - val_loss: 0.3661 - val_accuracy: 0.9259 - 42ms/epoch - 4ms/step\n",
            "Epoch 45/100\n",
            "10/10 - 0s - loss: 0.3659 - accuracy: 0.9231 - val_loss: 0.3624 - val_accuracy: 0.9630 - 42ms/epoch - 4ms/step\n",
            "Epoch 46/100\n",
            "10/10 - 0s - loss: 0.3616 - accuracy: 0.9231 - val_loss: 0.3573 - val_accuracy: 0.9630 - 56ms/epoch - 6ms/step\n",
            "Epoch 47/100\n",
            "10/10 - 0s - loss: 0.3573 - accuracy: 0.9231 - val_loss: 0.3535 - val_accuracy: 0.9630 - 54ms/epoch - 5ms/step\n",
            "Epoch 48/100\n",
            "10/10 - 0s - loss: 0.3528 - accuracy: 0.9231 - val_loss: 0.3494 - val_accuracy: 0.9630 - 54ms/epoch - 5ms/step\n",
            "Epoch 49/100\n",
            "10/10 - 0s - loss: 0.3490 - accuracy: 0.9231 - val_loss: 0.3454 - val_accuracy: 0.9630 - 44ms/epoch - 4ms/step\n",
            "Epoch 50/100\n",
            "10/10 - 0s - loss: 0.3446 - accuracy: 0.9231 - val_loss: 0.3413 - val_accuracy: 0.9630 - 43ms/epoch - 4ms/step\n",
            "Epoch 51/100\n",
            "10/10 - 0s - loss: 0.3410 - accuracy: 0.9231 - val_loss: 0.3378 - val_accuracy: 0.9630 - 49ms/epoch - 5ms/step\n",
            "Epoch 52/100\n",
            "10/10 - 0s - loss: 0.3373 - accuracy: 0.9231 - val_loss: 0.3340 - val_accuracy: 0.9630 - 42ms/epoch - 4ms/step\n",
            "Epoch 53/100\n",
            "10/10 - 0s - loss: 0.3333 - accuracy: 0.9231 - val_loss: 0.3303 - val_accuracy: 0.9630 - 48ms/epoch - 5ms/step\n",
            "Epoch 54/100\n",
            "10/10 - 0s - loss: 0.3294 - accuracy: 0.9231 - val_loss: 0.3261 - val_accuracy: 0.9630 - 42ms/epoch - 4ms/step\n",
            "Epoch 55/100\n",
            "10/10 - 0s - loss: 0.3253 - accuracy: 0.9359 - val_loss: 0.3210 - val_accuracy: 0.9630 - 44ms/epoch - 4ms/step\n",
            "Epoch 56/100\n",
            "10/10 - 0s - loss: 0.3216 - accuracy: 0.9359 - val_loss: 0.3154 - val_accuracy: 0.9630 - 58ms/epoch - 6ms/step\n",
            "Epoch 57/100\n",
            "10/10 - 0s - loss: 0.3176 - accuracy: 0.9359 - val_loss: 0.3108 - val_accuracy: 0.9630 - 43ms/epoch - 4ms/step\n",
            "Epoch 58/100\n",
            "10/10 - 0s - loss: 0.3129 - accuracy: 0.9359 - val_loss: 0.3057 - val_accuracy: 0.9630 - 47ms/epoch - 5ms/step\n",
            "Epoch 59/100\n",
            "10/10 - 0s - loss: 0.3094 - accuracy: 0.9359 - val_loss: 0.3015 - val_accuracy: 0.9630 - 65ms/epoch - 6ms/step\n",
            "Epoch 60/100\n",
            "10/10 - 0s - loss: 0.3058 - accuracy: 0.9359 - val_loss: 0.2985 - val_accuracy: 0.9630 - 49ms/epoch - 5ms/step\n",
            "Epoch 61/100\n",
            "10/10 - 0s - loss: 0.3027 - accuracy: 0.9359 - val_loss: 0.2959 - val_accuracy: 0.9630 - 43ms/epoch - 4ms/step\n",
            "Epoch 62/100\n",
            "10/10 - 0s - loss: 0.2990 - accuracy: 0.9359 - val_loss: 0.2923 - val_accuracy: 0.9630 - 42ms/epoch - 4ms/step\n",
            "Epoch 63/100\n",
            "10/10 - 0s - loss: 0.2959 - accuracy: 0.9487 - val_loss: 0.2879 - val_accuracy: 0.9630 - 56ms/epoch - 6ms/step\n",
            "Epoch 64/100\n",
            "10/10 - 0s - loss: 0.2929 - accuracy: 0.9487 - val_loss: 0.2848 - val_accuracy: 0.9630 - 41ms/epoch - 4ms/step\n",
            "Epoch 65/100\n",
            "10/10 - 0s - loss: 0.2896 - accuracy: 0.9487 - val_loss: 0.2805 - val_accuracy: 0.9630 - 47ms/epoch - 5ms/step\n",
            "Epoch 66/100\n",
            "10/10 - 0s - loss: 0.2858 - accuracy: 0.9487 - val_loss: 0.2770 - val_accuracy: 0.9630 - 69ms/epoch - 7ms/step\n",
            "Epoch 67/100\n",
            "10/10 - 0s - loss: 0.2838 - accuracy: 0.9487 - val_loss: 0.2740 - val_accuracy: 0.9630 - 66ms/epoch - 7ms/step\n",
            "Epoch 68/100\n",
            "10/10 - 0s - loss: 0.2807 - accuracy: 0.9487 - val_loss: 0.2720 - val_accuracy: 0.9630 - 63ms/epoch - 6ms/step\n",
            "Epoch 69/100\n",
            "10/10 - 0s - loss: 0.2778 - accuracy: 0.9487 - val_loss: 0.2697 - val_accuracy: 0.9630 - 50ms/epoch - 5ms/step\n",
            "Epoch 70/100\n",
            "10/10 - 0s - loss: 0.2746 - accuracy: 0.9487 - val_loss: 0.2662 - val_accuracy: 0.9630 - 74ms/epoch - 7ms/step\n",
            "Epoch 71/100\n",
            "10/10 - 0s - loss: 0.2720 - accuracy: 0.9487 - val_loss: 0.2628 - val_accuracy: 0.9630 - 66ms/epoch - 7ms/step\n",
            "Epoch 72/100\n",
            "10/10 - 0s - loss: 0.2697 - accuracy: 0.9487 - val_loss: 0.2593 - val_accuracy: 0.9630 - 45ms/epoch - 5ms/step\n",
            "Epoch 73/100\n",
            "10/10 - 0s - loss: 0.2668 - accuracy: 0.9487 - val_loss: 0.2569 - val_accuracy: 0.9630 - 60ms/epoch - 6ms/step\n",
            "Epoch 74/100\n",
            "10/10 - 0s - loss: 0.2639 - accuracy: 0.9487 - val_loss: 0.2557 - val_accuracy: 0.9630 - 68ms/epoch - 7ms/step\n",
            "Epoch 75/100\n",
            "10/10 - 0s - loss: 0.2617 - accuracy: 0.9487 - val_loss: 0.2528 - val_accuracy: 0.9630 - 65ms/epoch - 6ms/step\n",
            "Epoch 76/100\n",
            "10/10 - 0s - loss: 0.2599 - accuracy: 0.9487 - val_loss: 0.2506 - val_accuracy: 0.9630 - 63ms/epoch - 6ms/step\n",
            "Epoch 77/100\n",
            "10/10 - 0s - loss: 0.2567 - accuracy: 0.9487 - val_loss: 0.2480 - val_accuracy: 0.9630 - 66ms/epoch - 7ms/step\n",
            "Epoch 78/100\n",
            "10/10 - 0s - loss: 0.2541 - accuracy: 0.9487 - val_loss: 0.2466 - val_accuracy: 0.9630 - 54ms/epoch - 5ms/step\n",
            "Epoch 79/100\n",
            "10/10 - 0s - loss: 0.2522 - accuracy: 0.9487 - val_loss: 0.2443 - val_accuracy: 0.9630 - 63ms/epoch - 6ms/step\n",
            "Epoch 80/100\n",
            "10/10 - 0s - loss: 0.2495 - accuracy: 0.9487 - val_loss: 0.2422 - val_accuracy: 0.9630 - 65ms/epoch - 7ms/step\n",
            "Epoch 81/100\n",
            "10/10 - 0s - loss: 0.2477 - accuracy: 0.9487 - val_loss: 0.2394 - val_accuracy: 0.9630 - 60ms/epoch - 6ms/step\n",
            "Epoch 82/100\n",
            "10/10 - 0s - loss: 0.2455 - accuracy: 0.9487 - val_loss: 0.2363 - val_accuracy: 0.9630 - 47ms/epoch - 5ms/step\n",
            "Epoch 83/100\n",
            "10/10 - 0s - loss: 0.2433 - accuracy: 0.9487 - val_loss: 0.2347 - val_accuracy: 1.0000 - 46ms/epoch - 5ms/step\n",
            "Epoch 84/100\n",
            "10/10 - 0s - loss: 0.2418 - accuracy: 0.9487 - val_loss: 0.2324 - val_accuracy: 1.0000 - 62ms/epoch - 6ms/step\n",
            "Epoch 85/100\n",
            "10/10 - 0s - loss: 0.2390 - accuracy: 0.9487 - val_loss: 0.2297 - val_accuracy: 1.0000 - 49ms/epoch - 5ms/step\n",
            "Epoch 86/100\n",
            "10/10 - 0s - loss: 0.2368 - accuracy: 0.9487 - val_loss: 0.2276 - val_accuracy: 1.0000 - 68ms/epoch - 7ms/step\n",
            "Epoch 87/100\n",
            "10/10 - 0s - loss: 0.2346 - accuracy: 0.9487 - val_loss: 0.2251 - val_accuracy: 1.0000 - 68ms/epoch - 7ms/step\n",
            "Epoch 88/100\n",
            "10/10 - 0s - loss: 0.2331 - accuracy: 0.9487 - val_loss: 0.2237 - val_accuracy: 0.9630 - 54ms/epoch - 5ms/step\n",
            "Epoch 89/100\n",
            "10/10 - 0s - loss: 0.2311 - accuracy: 0.9487 - val_loss: 0.2209 - val_accuracy: 0.9630 - 62ms/epoch - 6ms/step\n",
            "Epoch 90/100\n",
            "10/10 - 0s - loss: 0.2286 - accuracy: 0.9487 - val_loss: 0.2191 - val_accuracy: 0.9630 - 50ms/epoch - 5ms/step\n",
            "Epoch 91/100\n",
            "10/10 - 0s - loss: 0.2272 - accuracy: 0.9487 - val_loss: 0.2168 - val_accuracy: 0.9630 - 73ms/epoch - 7ms/step\n",
            "Epoch 92/100\n",
            "10/10 - 0s - loss: 0.2255 - accuracy: 0.9487 - val_loss: 0.2142 - val_accuracy: 0.9630 - 50ms/epoch - 5ms/step\n",
            "Epoch 93/100\n",
            "10/10 - 0s - loss: 0.2232 - accuracy: 0.9487 - val_loss: 0.2125 - val_accuracy: 0.9630 - 48ms/epoch - 5ms/step\n",
            "Epoch 94/100\n",
            "10/10 - 0s - loss: 0.2211 - accuracy: 0.9487 - val_loss: 0.2102 - val_accuracy: 0.9630 - 42ms/epoch - 4ms/step\n",
            "Epoch 95/100\n",
            "10/10 - 0s - loss: 0.2201 - accuracy: 0.9487 - val_loss: 0.2088 - val_accuracy: 0.9630 - 41ms/epoch - 4ms/step\n",
            "Epoch 96/100\n",
            "10/10 - 0s - loss: 0.2180 - accuracy: 0.9487 - val_loss: 0.2080 - val_accuracy: 0.9630 - 47ms/epoch - 5ms/step\n",
            "Epoch 97/100\n",
            "10/10 - 0s - loss: 0.2164 - accuracy: 0.9487 - val_loss: 0.2069 - val_accuracy: 0.9630 - 43ms/epoch - 4ms/step\n",
            "Epoch 98/100\n",
            "10/10 - 0s - loss: 0.2151 - accuracy: 0.9487 - val_loss: 0.2056 - val_accuracy: 0.9630 - 41ms/epoch - 4ms/step\n",
            "Epoch 99/100\n",
            "10/10 - 0s - loss: 0.2130 - accuracy: 0.9487 - val_loss: 0.2035 - val_accuracy: 0.9630 - 42ms/epoch - 4ms/step\n",
            "Epoch 100/100\n",
            "10/10 - 0s - loss: 0.2110 - accuracy: 0.9615 - val_loss: 0.2013 - val_accuracy: 0.9630 - 43ms/epoch - 4ms/step\n"
          ]
        }
      ],
      "source": [
        "# Hyperparameters\n",
        "pa_epochs = 100\n",
        "pa_batch_size = 8\n",
        "pa_validation_slit = 0.25\n",
        "\n",
        "history = model.fit(X_train, y_train, epochs = pa_epochs, batch_size =pa_batch_size, validation_split = pa_validation_slit, verbose = 2)                    "
      ]
    },
    {
      "cell_type": "code",
      "execution_count": 41,
      "metadata": {
        "colab": {
          "base_uri": "https://localhost:8080/"
        },
        "id": "A_oDLr8ocxYg",
        "outputId": "a77816aa-eccf-4c48-8f63-604f0e5f4950"
      },
      "outputs": [
        {
          "output_type": "stream",
          "name": "stdout",
          "text": [
            "history params =  {'verbose': 2, 'epochs': 100, 'steps': 10}\n",
            "history epoch =  [0, 1, 2, 3, 4, 5, 6, 7, 8, 9, 10, 11, 12, 13, 14, 15, 16, 17, 18, 19, 20, 21, 22, 23, 24, 25, 26, 27, 28, 29, 30, 31, 32, 33, 34, 35, 36, 37, 38, 39, 40, 41, 42, 43, 44, 45, 46, 47, 48, 49, 50, 51, 52, 53, 54, 55, 56, 57, 58, 59, 60, 61, 62, 63, 64, 65, 66, 67, 68, 69, 70, 71, 72, 73, 74, 75, 76, 77, 78, 79, 80, 81, 82, 83, 84, 85, 86, 87, 88, 89, 90, 91, 92, 93, 94, 95, 96, 97, 98, 99]\n",
            "history keys =  dict_keys(['loss', 'accuracy', 'val_loss', 'val_accuracy'])\n"
          ]
        }
      ],
      "source": [
        "print('history params = ', history.params)\n",
        "print('history epoch = ', history.epoch)\n",
        "print('history keys = ',history.history.keys())"
      ]
    },
    {
      "cell_type": "code",
      "execution_count": 42,
      "metadata": {
        "scrolled": false,
        "colab": {
          "base_uri": "https://localhost:8080/",
          "height": 324
        },
        "id": "r08EeSpscxYg",
        "outputId": "11514fac-107e-4435-f464-ab79807a1f3b"
      },
      "outputs": [
        {
          "output_type": "display_data",
          "data": {
            "text/plain": [
              "<Figure size 576x360 with 1 Axes>"
            ],
            "image/png": "[encoded data removed]"
          },
          "metadata": {
            "needs_background": "light"
          }
        }
      ],
      "source": [
        "import pandas as pd\n",
        "\n",
        "pd.DataFrame(history.history).plot(figsize=(8, 5))\n",
        "plt.grid(True)\n",
        "plt.gca().set_ylim(0, 1)\n",
        "plt.show()"
      ]
    },
    {
      "cell_type": "markdown",
      "metadata": {
        "id": "iPLlDHdacxYh"
      },
      "source": [
        "### Step 4: </span> Model Evaluation by using Test dataset\n",
        "- 학습 dataset에 대해 정규화에 사용한 평균과 표준편차를 이용해서 \n",
        "테스트 dataset에 대해서도 동일한 정규화를 수행   \n",
        "※ 테스트 dataset에 대해 별도로 정규화를 하면 학습된 모델 파라미터는 다르게 동작 가능\n"
      ]
    },
    {
      "cell_type": "code",
      "execution_count": 43,
      "metadata": {
        "id": "S-aI4HpccxYh",
        "colab": {
          "base_uri": "https://localhost:8080/"
        },
        "outputId": "b7621064-d3ad-485c-c28a-a1fabe00f66c"
      },
      "outputs": [
        {
          "output_type": "stream",
          "name": "stdout",
          "text": [
            "2/2 [==============================] - 0s 5ms/step - loss: 0.1595 - accuracy: 1.0000\n"
          ]
        },
        {
          "output_type": "execute_result",
          "data": {
            "text/plain": [
              "[0.15951751172542572, 1.0]"
            ]
          },
          "metadata": {},
          "execution_count": 43
        }
      ],
      "source": [
        "# X_test를 훈련 데이터의 평균과 표준편차를 이용해 정규화\n",
        "X_test = (X_test - X_train_mean_before_normal) / X_train_std_before_normal\n",
        "\n",
        "model.evaluate(X_test, y_test)"
      ]
    },
    {
      "cell_type": "markdown",
      "metadata": {
        "id": "6Fki3dmVcxYi"
      },
      "source": [
        "### <span style=\"color:red\"> Step 5: </span> Prediction \n",
        "- Test dataset의 처음 3개의 sample들에 대해 예측 수행"
      ]
    },
    {
      "cell_type": "code",
      "execution_count": 55,
      "metadata": {
        "scrolled": true,
        "colab": {
          "base_uri": "https://localhost:8080/"
        },
        "id": "TtXwmc0jcxYi",
        "outputId": "1640f15d-28bc-4197-eecb-671fef7600b5"
      },
      "outputs": [
        {
          "output_type": "stream",
          "name": "stdout",
          "text": [
            "정답값(GT):\n",
            " [1 0 2] ['versicolor' 'setosa' 'virginica']\n",
            "\n",
            "1/1 [==============================] - 0s 17ms/step\n",
            "예측 확률:\n",
            " [[0.05 0.75 0.2 ]\n",
            " [1.   0.   0.  ]\n",
            " [0.   0.01 0.99]]\n",
            "\n",
            "예측 결과:\n",
            " [1, 0, 2] ['versicolor' 'setosa' 'virginica']\n"
          ]
        }
      ],
      "source": [
        "X_new = X_test[:3]\n",
        "y_new = y_test[:3]\n",
        "print('정답값(GT):\\n', y_new, np.array(class_names)[y_new], end='\\n\\n')\n",
        "\n",
        "y_prob = model.predict(X_new)\n",
        "print('예측 확률:\\n', y_prob.round(2))\n",
        "\n",
        "y_pred =  [np.argmax(y_prob[0,:]), np.argmax(y_prob[1,:]), np.argmax(y_prob[2,:])]\n",
        "print('\\n예측 결과:\\n', y_pred, np.array(class_names)[y_pred])"
      ]
    }
  ],
  "metadata": {
    "colab": {
      "provenance": []
    },
    "kernelspec": {
      "display_name": "Python 3",
      "language": "python",
      "name": "python3"
    },
    "language_info": {
      "codemirror_mode": {
        "name": "ipython",
        "version": 3
      },
      "file_extension": ".py",
      "mimetype": "text/x-python",
      "name": "python",
      "nbconvert_exporter": "python",
      "pygments_lexer": "ipython3",
      "version": "3.8.8"
    }
  },
  "nbformat": 4,
  "nbformat_minor": 0
}